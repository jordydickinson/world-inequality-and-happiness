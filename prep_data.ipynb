{
 "cells": [
  {
   "cell_type": "code",
   "execution_count": 36,
   "metadata": {},
   "outputs": [],
   "source": [
    "import pandas as pd"
   ]
  },
  {
   "cell_type": "code",
   "execution_count": 11,
   "metadata": {},
   "outputs": [],
   "source": [
    "countries = pd.read_csv(\n",
    "    'source_data/WID_countries.csv',\n",
    "    sep=';',\n",
    "    keep_default_na=False,\n",
    "    na_values=['']\n",
    ")"
   ]
  },
  {
   "cell_type": "code",
   "execution_count": 57,
   "metadata": {},
   "outputs": [],
   "source": [
    "data = []\n",
    "\n",
    "for country_code in list(countries['alpha2']):\n",
    "    country_data = pd.read_csv(\n",
    "        f'source_data/WID_data_{country_code}.csv',\n",
    "        sep=';',\n",
    "        keep_default_na=False,\n",
    "        na_values=['']\n",
    "    )\n",
    "\n",
    "    def read_variable(variable, percentile='p0p100'):\n",
    "        values = country_data.loc[\n",
    "            (country_data['variable'] == variable)\n",
    "            & (country_data['percentile'] == percentile)\n",
    "            & (country_data['year'] == 2021)\n",
    "        ]\n",
    "\n",
    "        if values.empty:\n",
    "            return None\n",
    "        \n",
    "        return values.iloc[0]['value']\n",
    "\n",
    "    exchange_rate_usd = read_variable('xlcusxi999')\n",
    "    gdp = read_variable('agdproi999')\n",
    "    avg_household_wealth = read_variable('ahwealj992')\n",
    "    avg_household_wealth_bottom_99 = read_variable('ahwealj992', percentile='p0p99')\n",
    "    avg_household_wealth_top_1 = read_variable('ahwealj992', percentile='p99p100')\n",
    "\n",
    "    data.append((\n",
    "        country_code,\n",
    "        exchange_rate_usd,\n",
    "        gdp,\n",
    "        avg_household_wealth,\n",
    "        avg_household_wealth_bottom_99,\n",
    "        avg_household_wealth_top_1\n",
    "    ))\n",
    "\n",
    "data = pd.DataFrame.from_records(\n",
    "    data,\n",
    "    columns=[\n",
    "        'country',\n",
    "        'exchange_rate_usd',\n",
    "        'gdp',\n",
    "        'avg_household_wealth',\n",
    "        'avg_household_wealth_bottom_99',\n",
    "        'avg_household_wealth_top_1'\n",
    "    ]\n",
    ")"
   ]
  },
  {
   "cell_type": "code",
   "execution_count": 63,
   "metadata": {},
   "outputs": [],
   "source": [
    "data.to_csv('data.csv', index=False)"
   ]
  }
 ],
 "metadata": {
  "kernelspec": {
   "display_name": "Python 3",
   "language": "python",
   "name": "python3"
  },
  "language_info": {
   "codemirror_mode": {
    "name": "ipython",
    "version": 3
   },
   "file_extension": ".py",
   "mimetype": "text/x-python",
   "name": "python",
   "nbconvert_exporter": "python",
   "pygments_lexer": "ipython3",
   "version": "3.11.4"
  },
  "orig_nbformat": 4
 },
 "nbformat": 4,
 "nbformat_minor": 2
}
