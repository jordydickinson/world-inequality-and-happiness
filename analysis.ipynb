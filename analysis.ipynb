{
 "cells": [
  {
   "cell_type": "markdown",
   "metadata": {},
   "source": [
    "# World Inequality Database Analysis"
   ]
  },
  {
   "cell_type": "code",
   "execution_count": null,
   "metadata": {},
   "outputs": [],
   "source": [
    "import pandas as pd\n",
    "import numpy as np\n",
    "from scipy import stats\n",
    "import matplotlib.pyplot as plt\n",
    "import matplotlib.ticker as mtick"
   ]
  },
  {
   "cell_type": "markdown",
   "metadata": {},
   "source": [
    "## Data Preparation"
   ]
  },
  {
   "cell_type": "markdown",
   "metadata": {},
   "source": [
    "The `WID_countries.csv` file contains all the country codes used to label the country-specific `csv`s as well as some metadata on countries."
   ]
  },
  {
   "cell_type": "code",
   "execution_count": null,
   "metadata": {},
   "outputs": [],
   "source": [
    "countries = pd.read_csv(\n",
    "    'source_data/WID_countries.csv',\n",
    "    sep=';',\n",
    "    keep_default_na=False,\n",
    "    na_values=['']\n",
    ")"
   ]
  },
  {
   "cell_type": "markdown",
   "metadata": {},
   "source": [
    "The variables we are interested in are as follows. For more information on each variable, see the [WID Codes Dictionary](https://wid.world/codes-dictionary/) and the [README](./source_data/README.md)."
   ]
  },
  {
   "cell_type": "code",
   "execution_count": null,
   "metadata": {},
   "outputs": [],
   "source": [
    "\n",
    "variables = [\n",
    "    # (Column Name, Variable Name, Percentile)\n",
    "    ('lcu_per_usd', 'xlcusxi999', 'p0p100'),\n",
    "    ('income_per_capita', 'anninci999', 'p0p100'),\n",
    "    ('gdp_per_capita', 'agdproi999', 'p0p100'),\n",
    "    ('avg_primary_house_npish_income', 'aprihni999', 'p0p100'),\n",
    "    ('avg_secondary_house_npish_income', 'asechni999', 'p0p100'),\n",
    "    ('avg_primary_corp_income', 'apricoi999', 'p0p100'),\n",
    "    ('avg_secondary_corp_income', 'aseccoi999', 'p0p100'),\n",
    "    ('avg_primary_govt_income', 'aprigoi999', 'p0p100'),\n",
    "    ('avg_secondary_govt_income', 'asecgoi999', 'p0p100'),\n",
    "    ('avg_house_wealth', 'ahwealj992', 'p0p100'),\n",
    "    ('avg_house_wealth_bot99', 'ahwealj992', 'p0p99'),\n",
    "    ('avg_house_wealth_top1', 'ahwealj992', 'p99p100'),\n",
    "    ('ss_benefits', 'assbhni999', 'p0p100'),\n",
    "    ('labor_share_income', 'wlabshi999', 'p0p100'),\n",
    "    ('capital_share_income', 'wcapshi999', 'p0p100')\n",
    "]"
   ]
  },
  {
   "cell_type": "markdown",
   "metadata": {},
   "source": [
    "Using the country codes listed in `WID_countries.csv` we're able to collect all the necessary information from the individual `WID_data_XX.csv` files, where `XX` is the country code. For more information on these files see the [README](./source_data/README.md). In these files, each variable is a record, and there's no guarantee than any given country will have that variable defined. Moreover, different countries may have these variables defined for different years. We want to obtain the highest possible number of data points. To this end, we will have to inspect each country and see what is defined and for what years the variables are defined, and select a year that maximizes the number of data points."
   ]
  },
  {
   "cell_type": "code",
   "execution_count": null,
   "metadata": {},
   "outputs": [],
   "source": [
    "# The following dictionary will have keys that are lists of countries which\n",
    "# have all the variables we want for the given year key.\n",
    "years = {year: [] for year in range(1800, 2023)}\n",
    "\n",
    "for country_code in list(countries.alpha2):\n",
    "    country_data = pd.read_csv(\n",
    "        f'source_data/WID_data_{country_code}.csv',\n",
    "        sep=';',\n",
    "        keep_default_na=False,\n",
    "        na_values=['']\n",
    "    )\n",
    "\n",
    "    def get_variable_years(variable, percentile):\n",
    "        \"\"\"Obtain the years a given variable is defined for.\"\"\"\n",
    "        values = country_data.loc[\n",
    "            (country_data.variable == variable)\n",
    "            & (country_data.percentile == percentile)\n",
    "        ]\n",
    "\n",
    "        return list(values['year'])\n",
    "\n",
    "    # This will contain the years for which all variables are defined.\n",
    "    years_defined = {year for year in range(1800, 2023)}\n",
    "\n",
    "    for _, variable, percentile in variables:\n",
    "        years_defined = years_defined.intersection(get_variable_years(variable, percentile))\n",
    "        if not years_defined:\n",
    "            break\n",
    "\n",
    "    for year in years_defined:\n",
    "        years[year].append(country_code)\n",
    "\n",
    "# Obtain the greatest year of those for which the most countries have all the\n",
    "# relevant variables defined.\n",
    "best_year = max([year for year, codes in years.items() if len(codes) == max([len(codes) for codes in years.values()])])"
   ]
  },
  {
   "cell_type": "markdown",
   "metadata": {},
   "source": [
    "We'll be working with a subset of the available countries:"
   ]
  },
  {
   "cell_type": "code",
   "execution_count": null,
   "metadata": {},
   "outputs": [],
   "source": [
    "(pd.DataFrame(years[best_year], columns=['Country Code'])\n",
    "    .join(countries[['alpha2', 'shortname']].set_index('alpha2'), on='Country Code')\n",
    "    .rename(columns={'shortname': 'Country Name'}))"
   ]
  },
  {
   "cell_type": "markdown",
   "metadata": {},
   "source": [
    "Now we can go through the countries of the best year and obtain the relevant data for that country, converting variable records into `DataFrame` columns."
   ]
  },
  {
   "cell_type": "code",
   "execution_count": null,
   "metadata": {},
   "outputs": [],
   "source": [
    "# This will contain all the variables for each country.\n",
    "data = []\n",
    "\n",
    "for country_code in years[best_year]:\n",
    "    country_data = pd.read_csv(\n",
    "        f'source_data/WID_data_{country_code}.csv',\n",
    "        sep=';',\n",
    "        keep_default_na=False,\n",
    "        na_values=['']\n",
    "    )\n",
    "\n",
    "    def read_variable(variable, percentile):\n",
    "        \"\"\"Read the value of a variable.\"\"\"\n",
    "        values = country_data.loc[\n",
    "            (country_data.variable == variable)\n",
    "            & (country_data.percentile == percentile)\n",
    "            & (country_data.year == best_year)\n",
    "        ]\n",
    "\n",
    "        if values.empty:\n",
    "            return None\n",
    "\n",
    "        assert(len(values) == 1)\n",
    "        return values.iloc[0].value\n",
    "\n",
    "    row = [country_code]\n",
    "    for _, variable, percentile in variables:\n",
    "        row.append(read_variable(variable, percentile))\n",
    "\n",
    "    data.append(row)\n",
    "\n",
    "data = pd.DataFrame.from_records(\n",
    "    data,\n",
    "    columns=['country'] + [col for col, _, _ in variables]\n",
    ")"
   ]
  },
  {
   "cell_type": "markdown",
   "metadata": {},
   "source": [
    "All the variables for each country are given in LCU (local currency units). We have to use the exchange rate into USD to normalize all the countries' variables into USD."
   ]
  },
  {
   "cell_type": "code",
   "execution_count": null,
   "metadata": {},
   "outputs": [],
   "source": [
    "def norm_col_currency(df, col):\n",
    "    df[col] = df[col] / df.lcu_per_usd\n",
    "\n",
    "norm_col_currency(data, 'income_per_capita')\n",
    "norm_col_currency(data, 'gdp_per_capita')\n",
    "norm_col_currency(data, 'avg_primary_house_npish_income')\n",
    "norm_col_currency(data, 'avg_secondary_house_npish_income')\n",
    "norm_col_currency(data, 'avg_primary_corp_income')\n",
    "norm_col_currency(data, 'avg_secondary_corp_income')\n",
    "norm_col_currency(data, 'avg_primary_govt_income')\n",
    "norm_col_currency(data, 'avg_secondary_govt_income')\n",
    "norm_col_currency(data, 'avg_house_wealth')\n",
    "norm_col_currency(data, 'avg_house_wealth_bot99')\n",
    "norm_col_currency(data, 'avg_house_wealth_top1')\n",
    "norm_col_currency(data, 'ss_benefits')"
   ]
  },
  {
   "cell_type": "markdown",
   "metadata": {},
   "source": [
    "## Data Analysis"
   ]
  },
  {
   "cell_type": "markdown",
   "metadata": {},
   "source": [
    "Unsurprisingly, net national income is correlated with average primary and secondary incomes of the household & NPISH, corporate, and government sectors."
   ]
  },
  {
   "cell_type": "code",
   "execution_count": null,
   "metadata": {},
   "outputs": [],
   "source": [
    "fig, (ax1, ax2) = plt.subplots(ncols=2, figsize=(12.8, 4.8), sharex=True, sharey=True)\n",
    "\n",
    "fig.supxlabel('Net National Income per Capita')\n",
    "\n",
    "ax1.set_title('Primary Income')\n",
    "ax1.set_ylabel('Avg. Primary Income')\n",
    "ax1.xaxis.set_major_formatter('${x:1.0f}')\n",
    "ax1.yaxis.set_major_formatter('${x:1.0f}')\n",
    "ax1.scatter(data.income_per_capita, data.avg_primary_house_npish_income)\n",
    "ax1.scatter(data.income_per_capita, data.avg_primary_corp_income)\n",
    "ax1.scatter(data.income_per_capita, data.avg_primary_govt_income)\n",
    "reg_m, reg_b = np.polyfit(data.income_per_capita, data.avg_primary_house_npish_income, deg=1)\n",
    "ax1.plot(data.income_per_capita, reg_m * data.income_per_capita + reg_b)\n",
    "reg_m, reg_b = np.polyfit(data.income_per_capita, data.avg_primary_corp_income, deg=1)\n",
    "ax1.plot(data.income_per_capita, reg_m * data.income_per_capita + reg_b)\n",
    "reg_m, reg_b = np.polyfit(data.income_per_capita, data.avg_primary_govt_income, deg=1)\n",
    "ax1.plot(data.income_per_capita, reg_m * data.income_per_capita + reg_b)\n",
    "\n",
    "ax2.set_title('Secondary Income')\n",
    "ax2.set_ylabel('Avg. Secondary Income')\n",
    "ax2.xaxis.set_major_formatter('${x:1.0f}')\n",
    "ax2.yaxis.set_major_formatter('${x:1.0f}')\n",
    "ax2.scatter(data.income_per_capita, data.avg_secondary_house_npish_income)\n",
    "ax2.scatter(data.income_per_capita, data.avg_secondary_corp_income)\n",
    "ax2.scatter(data.income_per_capita, data.avg_secondary_govt_income)\n",
    "reg_m, reg_b = np.polyfit(data.income_per_capita, data.avg_secondary_house_npish_income, deg=1)\n",
    "ax2.plot(data.income_per_capita, reg_m * data.income_per_capita + reg_b)\n",
    "reg_m, reg_b = np.polyfit(data.income_per_capita, data.avg_secondary_corp_income, deg=1)\n",
    "ax2.plot(data.income_per_capita, reg_m * data.income_per_capita + reg_b)\n",
    "reg_m, reg_b = np.polyfit(data.income_per_capita, data.avg_secondary_govt_income, deg=1)\n",
    "ax2.plot(data.income_per_capita, reg_m * data.income_per_capita + reg_b)\n",
    "\n",
    "fig.legend(['Household & NPISH', 'Corporate', 'Government'])"
   ]
  },
  {
   "cell_type": "markdown",
   "metadata": {},
   "source": [
    "There doesn't appear to be any correlation between GDP per capita and labor or capital shares of national income."
   ]
  },
  {
   "cell_type": "code",
   "execution_count": null,
   "metadata": {},
   "outputs": [],
   "source": [
    "fig, ax = plt.subplots()\n",
    "\n",
    "ax.scatter(data.gdp_per_capita, data.labor_share_income)\n",
    "ax.scatter(data.gdp_per_capita, data.capital_share_income)\n",
    "ax.set_xlabel('GDP per Capita')\n",
    "ax.set_ylabel('Share of National Income')\n",
    "ax.legend(['Labor', 'Capital'])\n",
    "ax.xaxis.set_major_formatter('${x:1.0f}')\n",
    "ax.yaxis.set_major_formatter(mtick.PercentFormatter(1))\n",
    "\n",
    "stats.pearsonr(data.gdp_per_capita, data.labor_share_income), stats.pearsonr(data.gdp_per_capita, data.capital_share_income)"
   ]
  },
  {
   "cell_type": "markdown",
   "metadata": {},
   "source": [
    "There is a positive correlation between GDP per capita and social security benefits."
   ]
  },
  {
   "cell_type": "code",
   "execution_count": null,
   "metadata": {},
   "outputs": [],
   "source": [
    "fig, ax = plt.subplots()\n",
    "\n",
    "ax.scatter(data.gdp_per_capita, data.ss_benefits)\n",
    "reg_m, reg_b = np.polyfit(data.gdp_per_capita, data.ss_benefits, deg=1)\n",
    "ax.plot(data.gdp_per_capita, reg_m * data.gdp_per_capita + reg_b)\n",
    "ax.set_xlabel('GDP per Capita')\n",
    "ax.xaxis.set_major_formatter('${x:1.0f}')\n",
    "ax.set_ylabel('Social Security Benefits')\n",
    "ax.yaxis.set_major_formatter('${x:1.0f}')\n",
    "\n",
    "stats.pearsonr(data.gdp_per_capita, data.ss_benefits)"
   ]
  },
  {
   "cell_type": "markdown",
   "metadata": {},
   "source": [
    "There is a correlation between average household wealth and GDP per capita."
   ]
  },
  {
   "cell_type": "code",
   "execution_count": null,
   "metadata": {},
   "outputs": [],
   "source": [
    "fig, ax = plt.subplots()\n",
    "\n",
    "ax.scatter(data.gdp_per_capita, data.avg_house_wealth)\n",
    "reg_m, reg_b = np.polyfit(data.gdp_per_capita, data.avg_house_wealth, deg=1)\n",
    "ax.plot(data.gdp_per_capita, reg_m * data.gdp_per_capita + reg_b)\n",
    "ax.set_xlabel('GDP per Capita')\n",
    "ax.set_ylabel('Avg. Household Wealth')\n",
    "ax.xaxis.set_major_formatter('${x:1.0f}')\n",
    "ax.yaxis.set_major_formatter('${x:1.0f}')\n",
    "\n",
    "stats.pearsonr(data.gdp_per_capita, data.avg_house_wealth)"
   ]
  },
  {
   "cell_type": "markdown",
   "metadata": {},
   "source": [
    "Interestingly, this correlation is stronger for the top 1% of household wealth."
   ]
  },
  {
   "cell_type": "code",
   "execution_count": null,
   "metadata": {},
   "outputs": [],
   "source": [
    "fig, ax = plt.subplots()\n",
    "\n",
    "ax.scatter(data.gdp_per_capita, data.avg_house_wealth_bot99)\n",
    "ax.scatter(data.gdp_per_capita, data.avg_house_wealth_top1)\n",
    "reg_m, reg_b = np.polyfit(data.gdp_per_capita, data.avg_house_wealth_bot99, deg=1)\n",
    "ax.plot(data.gdp_per_capita, reg_m * data.gdp_per_capita + reg_b)\n",
    "reg_m, reg_b = np.polyfit(data.gdp_per_capita, data.avg_house_wealth_top1, deg=1)\n",
    "ax.plot(data.gdp_per_capita, reg_m * data.gdp_per_capita + reg_b)\n",
    "ax.legend(['Bottom 99%', 'Top 1%'])\n",
    "ax.set_xlabel('GDP')\n",
    "ax.set_ylabel('Avg. Household Wealth')\n",
    "ax.xaxis.set_major_formatter('${x:1.0f}')\n",
    "ax.yaxis.set_major_formatter('${x:1.0f}')\n",
    "\n",
    "stats.pearsonr(data.gdp_per_capita, data.avg_house_wealth_bot99), stats.pearsonr(data.gdp_per_capita, data.avg_house_wealth_top1)"
   ]
  },
  {
   "cell_type": "markdown",
   "metadata": {},
   "source": [
    "The correlation is still present, but much weaker, for the bottom 99% of households. Notice the scale of the y-axis has changed tremendously."
   ]
  },
  {
   "cell_type": "code",
   "execution_count": null,
   "metadata": {},
   "outputs": [],
   "source": [
    "fig, ax = plt.subplots()\n",
    "\n",
    "ax.scatter(data.gdp_per_capita, data.avg_house_wealth_bot99)\n",
    "reg_m, reg_b = np.polyfit(data.gdp_per_capita, data.avg_house_wealth_bot99, deg=1)\n",
    "ax.plot(data.gdp_per_capita, reg_m * data.gdp_per_capita + reg_b)\n",
    "ax.set_xlabel('GDP per Capita')\n",
    "ax.set_ylabel('Avg. Household Wealth')\n",
    "ax.xaxis.set_major_formatter('${x:1.0f}')\n",
    "ax.yaxis.set_major_formatter('${x:1.0f}')"
   ]
  }
 ],
 "metadata": {
  "kernelspec": {
   "display_name": "Python 3",
   "language": "python",
   "name": "python3"
  },
  "language_info": {
   "codemirror_mode": {
    "name": "ipython",
    "version": 3
   },
   "file_extension": ".py",
   "mimetype": "text/x-python",
   "name": "python",
   "nbconvert_exporter": "python",
   "pygments_lexer": "ipython3",
   "version": "3.11.4"
  },
  "orig_nbformat": 4
 },
 "nbformat": 4,
 "nbformat_minor": 2
}
